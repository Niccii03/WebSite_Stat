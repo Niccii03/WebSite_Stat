{
 "cells": [
  {
   "cell_type": "markdown",
   "metadata": {},
   "source": [
    "<b>Лабораторная работа</b>"
   ]
  },
  {
   "cell_type": "markdown",
   "metadata": {},
   "source": [
    "<b>Часть 1</b>"
   ]
  },
  {
   "cell_type": "markdown",
   "metadata": {},
   "source": [
    "Постановка задачи:<br/>\n",
    "<b>Цель:</b> исследовать зависимость количества скачиваний программного продукта от количества посещений сайта.\n",
    "Исходные данные: данные о посещениях сайта и количестве скачиваний программного продукта. Данные представлены в виде таблицы и графиков.\n",
    "\n",
    "<b>Вопросы, на которые требуется ответить:</b>\n",
    "\n",
    "При количестве посещений сайта в 8000 человек, сколько планируется получить зарегистрировавшихся (или скачавших) программный продукт?\n",
    "Для обеспечения 500 скачиваний продукта, сколько человек должны зайти на сайт?<br/>\n",
    "<b>Задачи:</b>\n",
    "\n",
    "Вывести формулы для построения линейной регрессии (метод наименьших квадратов).\n",
    "Реализовать функции для вычисления среднего значения, дисперсии, коэффициента корреляции.\n",
    "Реализовать метод наименьших квадратов (используя только «самописные» функции).\n",
    "Построить линейные графики: отображение исходных данных, диаграмма рассеяния, линейная регрессия."
   ]
  },
  {
   "cell_type": "markdown",
   "metadata": {},
   "source": [
    "<b>Описание алгоритма с основными формулами:</b>\n",
    "\n",
    "Линейная регрессия:\n",
    "\n",
    "Предположим, что у нас есть зависимая переменная y (количество скачиваний программного продукта) и независимая переменная x (количество посещений сайта). Мы хотим найти линейную зависимость между этими переменными, выраженную в виде уравнения: y = mx + b, где m - коэффициент наклона (slope), b - интерсепт (intercept).\n",
    "Наша задача - найти такие значения m и b, чтобы линия, которую они задают, наилучшим образом соответствовала нашим данным.<br/>\n",
    "Метод наименьших квадратов:\n",
    "\n",
    "Мы хотим минимизировать сумму квадратов отклонений между фактическими значениями y и предсказанными значениями y нашей модели.\n",
    "Функция потерь (loss function) для метода наименьших квадратов выглядит следующим образом: L = Σ(yi - (mx + b))^2, где Σ - сумма по всем наблюдениям, yi - фактическое значение y, mx + b - предсказанное значение y.\n",
    "Наша задача - найти такие значения m и b, которые минимизируют функцию потерь.\n",
    "Вычисление коэффициентов:\n",
    "\n",
    "Для нахождения коэффициентов m и b мы можем использовать формулы:\n",
    "a = Σ((xi - x_mean) * (yi - y_mean)) / Σ((xi - x_mean)^2)\n",
    "b = y_mean - a * x_mean\n",
    "Где x_mean и y_mean - это средние значения x и y, xi и yi - фактические значения x и y."
   ]
  },
  {
   "cell_type": "code",
   "execution_count": 1,
   "metadata": {},
   "outputs": [],
   "source": [
    "import pandas as pd\n",
    "from matplotlib import pyplot as plt\n",
    "import seaborn as sns\n",
    "import numpy as np\n",
    "import math"
   ]
  },
  {
   "cell_type": "code",
   "execution_count": 2,
   "metadata": {},
   "outputs": [
    {
     "data": {
      "text/html": [
       "<div>\n",
       "<style scoped>\n",
       "    .dataframe tbody tr th:only-of-type {\n",
       "        vertical-align: middle;\n",
       "    }\n",
       "\n",
       "    .dataframe tbody tr th {\n",
       "        vertical-align: top;\n",
       "    }\n",
       "\n",
       "    .dataframe thead th {\n",
       "        text-align: right;\n",
       "    }\n",
       "</style>\n",
       "<table border=\"1\" class=\"dataframe\">\n",
       "  <thead>\n",
       "    <tr style=\"text-align: right;\">\n",
       "      <th></th>\n",
       "      <th>site_views</th>\n",
       "      <th>site_regs</th>\n",
       "    </tr>\n",
       "  </thead>\n",
       "  <tbody>\n",
       "    <tr>\n",
       "      <th>0</th>\n",
       "      <td>5252</td>\n",
       "      <td>21</td>\n",
       "    </tr>\n",
       "    <tr>\n",
       "      <th>1</th>\n",
       "      <td>7620</td>\n",
       "      <td>46</td>\n",
       "    </tr>\n",
       "    <tr>\n",
       "      <th>2</th>\n",
       "      <td>941</td>\n",
       "      <td>9</td>\n",
       "    </tr>\n",
       "    <tr>\n",
       "      <th>3</th>\n",
       "      <td>1159</td>\n",
       "      <td>8</td>\n",
       "    </tr>\n",
       "    <tr>\n",
       "      <th>4</th>\n",
       "      <td>485</td>\n",
       "      <td>3</td>\n",
       "    </tr>\n",
       "    <tr>\n",
       "      <th>5</th>\n",
       "      <td>299</td>\n",
       "      <td>6</td>\n",
       "    </tr>\n",
       "    <tr>\n",
       "      <th>6</th>\n",
       "      <td>239</td>\n",
       "      <td>4</td>\n",
       "    </tr>\n",
       "    <tr>\n",
       "      <th>7</th>\n",
       "      <td>195</td>\n",
       "      <td>2</td>\n",
       "    </tr>\n",
       "    <tr>\n",
       "      <th>8</th>\n",
       "      <td>181</td>\n",
       "      <td>2</td>\n",
       "    </tr>\n",
       "    <tr>\n",
       "      <th>9</th>\n",
       "      <td>180</td>\n",
       "      <td>2</td>\n",
       "    </tr>\n",
       "  </tbody>\n",
       "</table>\n",
       "</div>"
      ],
      "text/plain": [
       "   site_views  site_regs\n",
       "0        5252         21\n",
       "1        7620         46\n",
       "2         941          9\n",
       "3        1159          8\n",
       "4         485          3\n",
       "5         299          6\n",
       "6         239          4\n",
       "7         195          2\n",
       "8         181          2\n",
       "9         180          2"
      ]
     },
     "execution_count": 2,
     "metadata": {},
     "output_type": "execute_result"
    }
   ],
   "source": [
    "df = pd.read_csv(\"C:\\\\Users\\\\1642579\\\\Downloads\\\\website_stat.csv\")\n",
    "df[['site_views', 'site_regs']]"
   ]
  },
  {
   "cell_type": "code",
   "execution_count": 3,
   "metadata": {},
   "outputs": [
    {
     "name": "stdout",
     "output_type": "stream",
     "text": [
      "Коэффициент корреляции - 0.9694433977097229\n"
     ]
    },
    {
     "data": {
      "image/png": "[encoded data removed]",
      "text/plain": [
       "<Figure size 1500x500 with 2 Axes>"
      ]
     },
     "metadata": {},
     "output_type": "display_data"
    }
   ],
   "source": [
    "# вычисляет среднее значение для массива x\n",
    "def M(x, df):\n",
    "    N = df.shape[0]\n",
    "    sum = 0\n",
    "    for i in range(N):\n",
    "        sum += x[i]\n",
    "    return sum/N\n",
    "# вычисляет дисперсию для массива x\n",
    "def D(x, mx, df):\n",
    "    N = df.shape[0]\n",
    "    sum = 0\n",
    "    for i in range(N):\n",
    "        sum += (x[i] - mx)**2\n",
    "    return sum/N\n",
    "# вычисляет сумму квадратов для массива x\n",
    "def M_2(x, df):\n",
    "    N = df.shape[0]\n",
    "    sum = 0\n",
    "    for i in range(N):\n",
    "        sum += x[i]**2\n",
    "    return sum\n",
    "# вычисляет ковариацию для массивов x и z\n",
    "def XZ(x, z, df):\n",
    "    N = df.shape[0]\n",
    "    sum = 0\n",
    "    for i in range(N):\n",
    "        sum += x[i] * z[i]\n",
    "    return sum/N\n",
    "\n",
    "def corr_coef(x, z, mx, mz, dx, dz, df):\n",
    "    N = df.shape[0]\n",
    "    sum = 0\n",
    "    for i in range(N):\n",
    "        sum += (x[i] - mx) * (z[i] - mz)\n",
    "    return 1/N * (sum / (dx * dz)**(1/2))\n",
    "\n",
    "\n",
    "N = df.shape[0]\n",
    "mx = M(df.site_views, df)\n",
    "mx_2 = M_2(df.site_views, df)\n",
    "mz = M(df.site_regs, df)\n",
    "dx = D(df.site_views, mx, df)\n",
    "dz = D(df.site_regs, mz, df)\n",
    "xz = XZ(df.site_views, df.site_regs, df)\n",
    "corr_old = corr_coef(df.site_views, df.site_regs, mx, mz, dx, dz, df)\n",
    "print(f\"Коэффициент корреляции - {corr_old}\")\n",
    "f, ax = plt.subplots(1,2, figsize=(15,5))\n",
    "df.site_views.hist(ax=ax[0])\n",
    "\n",
    "ax[0].set_title('Распределение просмотров')\n",
    "ax[0].set_ylabel('Частота')\n",
    "ax[0].set_xlabel('Просмотры')\n",
    "\n",
    "df.site_regs.hist(ax=ax[1], color='orange')\n",
    "ax[1].set_title('Распределение скачиваний')\n",
    "ax[1].set_ylabel('Частота')\n",
    "ax[1].set_xlabel('Скачивания')\n",
    "plt.show()\n"
   ]
  },
  {
   "cell_type": "code",
   "execution_count": 4,
   "metadata": {},
   "outputs": [
    {
     "data": {
      "image/png": "[encoded data removed]",
      "text/plain": [
       "<Figure size 640x480 with 1 Axes>"
      ]
     },
     "metadata": {},
     "output_type": "display_data"
    }
   ],
   "source": [
    "# Вычисление коэффициентов линейной регрессии\n",
    "A = ((mx * mz - xz) / (mx**2 - mx_2/N))\n",
    "B = mz - (A*mx)\n",
    "\n",
    "sns.scatterplot(df, x='site_views', y='site_regs')\n",
    "f = []\n",
    "for x in df.site_views:\n",
    "    f.append(A*x+B) #добавляет предсказанное значение y (Ax+B) в список f\n",
    "sns.lineplot(x=df.site_views, y=f, c='red')\n",
    "plt.title(\"Линейная регрессия зависимости скачиваний от просмотров\")\n",
    "plt.ylabel(\"Скачивания\")\n",
    "plt.xlabel(\"Просмотры\")\n",
    "plt.show()"
   ]
  },
  {
   "cell_type": "code",
   "execution_count": 5,
   "metadata": {},
   "outputs": [
    {
     "name": "stdout",
     "output_type": "stream",
     "text": [
      "При 8000 посещениях сайта планируется получить 42 зарегистрированных пользователей\n"
     ]
    }
   ],
   "source": [
    "# Предсказание количества скачиваний продукта при заданном количестве посещений сайта\n",
    "y = A * 8000 + B\n",
    "print(f\"При 8000 посещениях сайта планируется получить {math.floor(y)} зарегистрированных пользователей\")"
   ]
  },
  {
   "cell_type": "code",
   "execution_count": 6,
   "metadata": {},
   "outputs": [
    {
     "name": "stdout",
     "output_type": "stream",
     "text": [
      "Для обеспечения 500 скачиваний продукта, на сайт должно зайти около 96921 человек\n"
     ]
    }
   ],
   "source": [
    "# Предсказание количества посещений сайта, которое необходимо для достижения 500 скачиваний продукта\n",
    "x = (500 - B) / A\n",
    "print(f\"Для обеспечения 500 скачиваний продукта, на сайт должно зайти около {math.floor(x)} человек\")"
   ]
  },
  {
   "cell_type": "markdown",
   "metadata": {},
   "source": [
    "<div style='text-align:center'><b>Часть 2</b></div>"
   ]
  },
  {
   "cell_type": "code",
   "execution_count": 7,
   "metadata": {},
   "outputs": [
    {
     "data": {
      "text/html": [
       "<div>\n",
       "<style scoped>\n",
       "    .dataframe tbody tr th:only-of-type {\n",
       "        vertical-align: middle;\n",
       "    }\n",
       "\n",
       "    .dataframe tbody tr th {\n",
       "        vertical-align: top;\n",
       "    }\n",
       "\n",
       "    .dataframe thead th {\n",
       "        text-align: right;\n",
       "    }\n",
       "</style>\n",
       "<table border=\"1\" class=\"dataframe\">\n",
       "  <thead>\n",
       "    <tr style=\"text-align: right;\">\n",
       "      <th></th>\n",
       "      <th>day</th>\n",
       "      <th>site_views</th>\n",
       "      <th>site_regs</th>\n",
       "    </tr>\n",
       "  </thead>\n",
       "  <tbody>\n",
       "    <tr>\n",
       "      <th>0</th>\n",
       "      <td>5</td>\n",
       "      <td>5252</td>\n",
       "      <td>21</td>\n",
       "    </tr>\n",
       "    <tr>\n",
       "      <th>1</th>\n",
       "      <td>6</td>\n",
       "      <td>7620</td>\n",
       "      <td>46</td>\n",
       "    </tr>\n",
       "    <tr>\n",
       "      <th>2</th>\n",
       "      <td>7</td>\n",
       "      <td>941</td>\n",
       "      <td>9</td>\n",
       "    </tr>\n",
       "    <tr>\n",
       "      <th>3</th>\n",
       "      <td>8</td>\n",
       "      <td>1159</td>\n",
       "      <td>8</td>\n",
       "    </tr>\n",
       "    <tr>\n",
       "      <th>4</th>\n",
       "      <td>9</td>\n",
       "      <td>485</td>\n",
       "      <td>3</td>\n",
       "    </tr>\n",
       "    <tr>\n",
       "      <th>5</th>\n",
       "      <td>10</td>\n",
       "      <td>299</td>\n",
       "      <td>6</td>\n",
       "    </tr>\n",
       "    <tr>\n",
       "      <th>6</th>\n",
       "      <td>11</td>\n",
       "      <td>239</td>\n",
       "      <td>4</td>\n",
       "    </tr>\n",
       "    <tr>\n",
       "      <th>7</th>\n",
       "      <td>12</td>\n",
       "      <td>195</td>\n",
       "      <td>2</td>\n",
       "    </tr>\n",
       "    <tr>\n",
       "      <th>8</th>\n",
       "      <td>13</td>\n",
       "      <td>181</td>\n",
       "      <td>2</td>\n",
       "    </tr>\n",
       "    <tr>\n",
       "      <th>9</th>\n",
       "      <td>14</td>\n",
       "      <td>180</td>\n",
       "      <td>2</td>\n",
       "    </tr>\n",
       "  </tbody>\n",
       "</table>\n",
       "</div>"
      ],
      "text/plain": [
       "   day  site_views  site_regs\n",
       "0    5        5252         21\n",
       "1    6        7620         46\n",
       "2    7         941          9\n",
       "3    8        1159          8\n",
       "4    9         485          3\n",
       "5   10         299          6\n",
       "6   11         239          4\n",
       "7   12         195          2\n",
       "8   13         181          2\n",
       "9   14         180          2"
      ]
     },
     "execution_count": 7,
     "metadata": {},
     "output_type": "execute_result"
    }
   ],
   "source": [
    "df = pd.read_csv(\"C:\\\\Users\\\\1642579\\\\Downloads\\\\website_stat.csv\")\n",
    "df"
   ]
  },
  {
   "cell_type": "code",
   "execution_count": 8,
   "metadata": {},
   "outputs": [
    {
     "data": {
      "text/html": [
       "<div>\n",
       "<style scoped>\n",
       "    .dataframe tbody tr th:only-of-type {\n",
       "        vertical-align: middle;\n",
       "    }\n",
       "\n",
       "    .dataframe tbody tr th {\n",
       "        vertical-align: top;\n",
       "    }\n",
       "\n",
       "    .dataframe thead th {\n",
       "        text-align: right;\n",
       "    }\n",
       "</style>\n",
       "<table border=\"1\" class=\"dataframe\">\n",
       "  <thead>\n",
       "    <tr style=\"text-align: right;\">\n",
       "      <th></th>\n",
       "      <th>day</th>\n",
       "      <th>site_views</th>\n",
       "      <th>site_regs</th>\n",
       "    </tr>\n",
       "  </thead>\n",
       "  <tbody>\n",
       "    <tr>\n",
       "      <th>count</th>\n",
       "      <td>10.00000</td>\n",
       "      <td>10.000000</td>\n",
       "      <td>10.000000</td>\n",
       "    </tr>\n",
       "    <tr>\n",
       "      <th>mean</th>\n",
       "      <td>9.50000</td>\n",
       "      <td>1655.100000</td>\n",
       "      <td>10.300000</td>\n",
       "    </tr>\n",
       "    <tr>\n",
       "      <th>std</th>\n",
       "      <td>3.02765</td>\n",
       "      <td>2602.734436</td>\n",
       "      <td>13.800564</td>\n",
       "    </tr>\n",
       "    <tr>\n",
       "      <th>min</th>\n",
       "      <td>5.00000</td>\n",
       "      <td>180.000000</td>\n",
       "      <td>2.000000</td>\n",
       "    </tr>\n",
       "    <tr>\n",
       "      <th>25%</th>\n",
       "      <td>7.25000</td>\n",
       "      <td>206.000000</td>\n",
       "      <td>2.250000</td>\n",
       "    </tr>\n",
       "    <tr>\n",
       "      <th>50%</th>\n",
       "      <td>9.50000</td>\n",
       "      <td>392.000000</td>\n",
       "      <td>5.000000</td>\n",
       "    </tr>\n",
       "    <tr>\n",
       "      <th>75%</th>\n",
       "      <td>11.75000</td>\n",
       "      <td>1104.500000</td>\n",
       "      <td>8.750000</td>\n",
       "    </tr>\n",
       "    <tr>\n",
       "      <th>max</th>\n",
       "      <td>14.00000</td>\n",
       "      <td>7620.000000</td>\n",
       "      <td>46.000000</td>\n",
       "    </tr>\n",
       "  </tbody>\n",
       "</table>\n",
       "</div>"
      ],
      "text/plain": [
       "            day   site_views  site_regs\n",
       "count  10.00000    10.000000  10.000000\n",
       "mean    9.50000  1655.100000  10.300000\n",
       "std     3.02765  2602.734436  13.800564\n",
       "min     5.00000   180.000000   2.000000\n",
       "25%     7.25000   206.000000   2.250000\n",
       "50%     9.50000   392.000000   5.000000\n",
       "75%    11.75000  1104.500000   8.750000\n",
       "max    14.00000  7620.000000  46.000000"
      ]
     },
     "execution_count": 8,
     "metadata": {},
     "output_type": "execute_result"
    }
   ],
   "source": [
    "df.describe()"
   ]
  },
  {
   "cell_type": "code",
   "execution_count": 9,
   "metadata": {},
   "outputs": [
    {
     "name": "stdout",
     "output_type": "stream",
     "text": [
      "mean_views: | old \\ new | (1655.1, 1655.1)\n",
      "mean_regs:  | old \\ new | (10.3, 10.3)\n",
      "var_views:  | old \\ new | (6096803.89, 6096803.89)\n",
      "std_views:  | old \\ new | 2469.1706887131154\n",
      "var_regs:   | old \\ new | (171.41000000000005, 171.41000000000005)\n",
      "std_regs:   | old \\ new | 13.092364186807517\n",
      "max_views:  | old \\ new | 7620\n",
      "min_views:  | old \\ new | 180\n",
      "max_regs:   | old \\ new | 46\n",
      "min_regs:   | old \\ new | 2\n",
      "corr_coef:  | old \\ new | (0.9694433977097229, 0.9999999999999998)\n"
     ]
    }
   ],
   "source": [
    "# Вычисляет различные статистические параметры для двух массивов данных: df.site_views и df.site_regs\n",
    "mean_views = np.mean(df.site_views)\n",
    "mean_regs = np.mean(df.site_regs)\n",
    "var_views = np.var(df.site_views)\n",
    "std_views = np.std(df.site_views)\n",
    "var_regs = np.var(df.site_regs)\n",
    "std_regs = np.std(df.site_regs)\n",
    "max_views = df.site_views.max()\n",
    "min_views = df.site_views.min()\n",
    "max_regs = df.site_regs.max()\n",
    "min_regs = df.site_regs.min()\n",
    "corr_new = np.corrcoef(df.site_views, df.site_regs)[0][0]\n",
    "# Старые и новые показатели\n",
    "print(f\"mean_views: | old \\ new | {mean_views, mx}\")\n",
    "print(f\"mean_regs:  | old \\ new | {mean_regs, mz}\")\n",
    "print(f\"var_views:  | old \\ new | {var_views, dx}\")\n",
    "print(f\"std_views:  | old \\ new | {std_views}\")\n",
    "print(f\"var_regs:   | old \\ new | {var_regs, dz}\")\n",
    "print(f\"std_regs:   | old \\ new | {std_regs}\")\n",
    "print(f\"max_views:  | old \\ new | {max_views}\")\n",
    "print(f\"min_views:  | old \\ new | {min_views}\")\n",
    "print(f\"max_regs:   | old \\ new | {max_regs}\")\n",
    "print(f\"min_regs:   | old \\ new | {min_regs}\")\n",
    "print(f\"corr_coef:  | old \\ new | {corr_old, corr_new}\")\n"
   ]
  },
  {
   "cell_type": "markdown",
   "metadata": {},
   "source": [
    "Значения, полученные при использовании функций, написанных самостоятельно не отличаются от значений от методов numpy"
   ]
  },
  {
   "cell_type": "code",
   "execution_count": 10,
   "metadata": {},
   "outputs": [
    {
     "data": {
      "text/plain": [
       "Text(0.5, 0, 'Просмотры')"
      ]
     },
     "execution_count": 10,
     "metadata": {},
     "output_type": "execute_result"
    },
    {
     "data": {
      "image/png": "[encoded data removed]",
      "text/plain": [
       "<Figure size 640x480 with 1 Axes>"
      ]
     },
     "metadata": {},
     "output_type": "display_data"
    }
   ],
   "source": [
    "sns.scatterplot(df, x='site_views', y='site_regs')\n",
    "plt.title(\"Диаграмма рессеивания зависимости скачиваний от просмотров\")\n",
    "plt.ylabel(\"Скачивания\")\n",
    "plt.xlabel(\"Просмотры\")"
   ]
  },
  {
   "cell_type": "code",
   "execution_count": 11,
   "metadata": {},
   "outputs": [],
   "source": [
    "from sklearn import linear_model\n",
    "from sklearn.metrics import max_error\n",
    "from sklearn.metrics import mean_squared_error\n",
    "from sklearn.metrics import median_absolute_error \n",
    "from sklearn.metrics import mean_absolute_percentage_error"
   ]
  },
  {
   "cell_type": "code",
   "execution_count": 12,
   "metadata": {},
   "outputs": [
    {
     "data": {
      "text/plain": [
       "Text(0.5, 0, 'Просмотры')"
      ]
     },
     "execution_count": 12,
     "metadata": {},
     "output_type": "execute_result"
    },
    {
     "data": {
      "image/png": "[encoded data removed]",
      "text/plain": [
       "<Figure size 640x480 with 1 Axes>"
      ]
     },
     "metadata": {},
     "output_type": "display_data"
    }
   ],
   "source": [
    "# Создание экземпляра линейной регрессии\n",
    "reg = linear_model.LinearRegression()\n",
    "\n",
    "x_train = df.site_views.to_numpy().reshape(-1, 1)\n",
    "y_train = df.site_regs.to_numpy().reshape(-1, 1)\n",
    "\n",
    "# Обучение модели линейной регрессии reg на обучающих данных \n",
    "reg.fit(x_train, y_train)\n",
    "\n",
    "# Предсказание значений y_pred на основе обученной модели\n",
    "y_pred = reg.predict(x_train)\n",
    "\n",
    "\n",
    "sns.scatterplot(df, x='site_views', y='site_regs')\n",
    "sns.lineplot(x=x_train.flatten(), y=y_pred.flatten(), c='red')\n",
    "\n",
    "plt.title(\"Линейная регрессия зависимости скачиваний от просмотров\")\n",
    "plt.ylabel('Скачивания')\n",
    "plt.xlabel(\"Просмотры\")"
   ]
  },
  {
   "cell_type": "code",
   "execution_count": 13,
   "metadata": {},
   "outputs": [
    {
     "name": "stdout",
     "output_type": "stream",
     "text": [
      "Новый A = [[0.00514031]], Старый A = 0.005140311311538676\n",
      "Новый B = [1.79227075], Старый B = 1.7922707482723386\n"
     ]
    }
   ],
   "source": [
    "# Вывод коэффициентов построенной линии регрессии\n",
    "print(f\"Новый A = {reg.coef_}, Старый A = {A}\")\n",
    "print(f\"Новый B = {reg.intercept_}, Старый B = {B}\")"
   ]
  },
  {
   "cell_type": "markdown",
   "metadata": {},
   "source": [
    "Полученные значения коэффициентов линии регрессии практически не отличаются от написанных самостоятельно"
   ]
  },
  {
   "cell_type": "code",
   "execution_count": 14,
   "metadata": {},
   "outputs": [
    {
     "name": "stdout",
     "output_type": "stream",
     "text": [
      "𝑅2 Коэффициент детерминации - 0.9398205013629718\n",
      "Максимальная остаточная ошибка - 7579.038557057803\n",
      "Cредняя квадратическая ошибка - 10.315367861373016\n",
      "Медианная абсолютная ошибка - 1.1322582913192574\n",
      "Средняя абсолютная процентная ошибка - 0.30109030313845364\n"
     ]
    }
   ],
   "source": [
    "# Вычисляет различные метрики качества модели линейной регрессии\n",
    "\n",
    "# Вычисляет коэффициент детерминации (R^2),\n",
    "# который измеряет, насколько хорошо модель соответствует данным. \n",
    "# Значение R^2 находится в диапазоне от 0 до 1, где 1 означает идеальное соответствие\n",
    "print(f\"𝑅2 Коэффициент детерминации - {reg.score(x_train, y_train)}\")\n",
    "\n",
    "# Вычисляет максимальную остаточную ошибку,\n",
    "# которая представляет собой наибольшее абсолютное значение разницы между фактическими и предсказанными значениями\n",
    "print(f\"Максимальная остаточная ошибка - {max_error(x_train, y_pred)}\")\n",
    "\n",
    "# Вычисляет среднеквадратичную ошибку, \n",
    "# которая представляет собой среднее значение квадратов разницы между фактическими и предсказанными значениями\n",
    "print(f\"Cредняя квадратическая ошибка - {mean_squared_error(y_train, y_pred)}\")\n",
    "\n",
    "# Вычисляет медианную абсолютную ошибку,\n",
    "# которая представляет собой медианное значение абсолютных разниц между фактическими и предсказанными значениями\n",
    "print(f\"Медианная абсолютная ошибка - {median_absolute_error(y_train, y_pred)}\")\n",
    "\n",
    "# Вычисляет среднюю абсолютную процентную ошибку,\n",
    "# которая представляет собой среднее значение абсолютных процентных разниц между фактическими и предсказанными значениями\n",
    "print(f\"Средняя абсолютная процентная ошибка - {mean_absolute_percentage_error(y_train, y_pred)}\")"
   ]
  },
  {
   "cell_type": "markdown",
   "metadata": {},
   "source": [
    "<b>Вывод</b>\n",
    "* Коэффициент детерминации (R^2) составляет 0.9398. Это означает, что 93.98% дисперсии зависимой переменной (количество зарегистрированных пользователей) объясняется независимой переменной (количество посещений сайта). Таким образом, модель хорошо соответствует данным.\n",
    "\n",
    "* Максимальная остаточная ошибка составляет 7579.04. Это означает, что наибольшая разница между фактическими и предсказанными значениями составляет 7579.04.\n",
    "\n",
    "* Среднеквадратичная ошибка (MSE) составляет 10.32. Это означает, что средняя квадратичная разница между фактическими и предсказанными значениями составляет 10.32.\n",
    "\n",
    "* Медианная абсолютная ошибка (MedAE) составляет 1.13. Это означает, что медианная абсолютная разница между фактическими и предсказанными значениями составляет 1.13.\n",
    "\n",
    "* Средняя абсолютная процентная ошибка (MAPE) составляет 0.301. Это означает, что средняя абсолютная процентная разница между фактическими и предсказанными значениями составляет 0.301%.\n",
    "\n",
    "Исходя из этих метрик, можно сделать вывод, что модель линейной регрессии хорошо соответствует данным и имеет низкие ошибки прогнозирования."
   ]
  },
  {
   "cell_type": "code",
   "execution_count": 15,
   "metadata": {},
   "outputs": [
    {
     "name": "stdout",
     "output_type": "stream",
     "text": [
      "При 8000 посещениях сайта планируется получить 42 зарегистрированных пользователей\n"
     ]
    }
   ],
   "source": [
    "# Вычисляет предсказанное количество зарегистрированных пользователей при заданном количестве посещений сайта (8000)\n",
    "result = reg.predict([[8000]])\n",
    "result = result.flatten().tolist()[0]\n",
    "print(f\"При 8000 посещениях сайта планируется получить {math.floor(result)} зарегистрированных пользователей\")"
   ]
  },
  {
   "cell_type": "code",
   "execution_count": 16,
   "metadata": {},
   "outputs": [
    {
     "name": "stdout",
     "output_type": "stream",
     "text": [
      "Для обеспечения 500 скачиваний продукта, на сайт должно зайти около 96921 человек\n"
     ]
    }
   ],
   "source": [
    " # Преобразуем число 500 в двумерный массив\n",
    "x_pred = ((500 - reg.intercept_) / reg.coef_).flatten().tolist()[0]\n",
    "\n",
    "print(f\"Для обеспечения 500 скачиваний продукта, на сайт должно зайти около {math.floor(x_pred)} человек\")"
   ]
  },
  {
   "cell_type": "markdown",
   "metadata": {},
   "source": [
    "<b>Список литературы</b>\n",
    "* Линейная регрессия: https://scikit-learn.org/stable/modules/generated/sklearn.linear_model.LinearRegression.html\n",
    "* Введение в машинное обучение с помощью Python\" от O'Reilly: https://www.oreilly.com/library/view/introduction-to-machine/9781449369880/\n",
    "* Python for Data Analysis\" от Wes McKinney: https://www.oreilly.com/library/view/python-for-data/9781491957653/\n",
    "* SciPy and NumPy\" от Eli Bressert: https://www.packtpub.com/product/scipy-and-numpy/9781849515991\n",
    "* Data Science Handbook\" от Jake VanderPlas: https://jakevdp.github.io/PythonDataScienceHandbook/\n",
    "* Seaborn: Statistical Data Visualization\" от Michael Waskom: https://seaborn.pydata.org/"
   ]
  }
 ],
 "metadata": {
  "kernelspec": {
   "display_name": "base",
   "language": "python",
   "name": "python3"
  },
  "language_info": {
   "codemirror_mode": {
    "name": "ipython",
    "version": 3
   },
   "file_extension": ".py",
   "mimetype": "text/x-python",
   "name": "python",
   "nbconvert_exporter": "python",
   "pygments_lexer": "ipython3",
   "version": "3.10.9"
  }
 },
 "nbformat": 4,
 "nbformat_minor": 2
}
